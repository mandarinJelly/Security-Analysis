{
 "cells": [
  {
   "cell_type": "markdown",
   "metadata": {},
   "source": [
    "# Chapter 1: The Investment Environment\n",
    "\n",
    "Financial System: allows the exchange of funds between lenders, investors, and borrowers\n",
    "\n",
    "Real Economy: All **real** or non-financial elements of an economy. For example, an economy with no financial elements. All goods and services are purely represented in real terms."
   ]
  },
  {
   "cell_type": "markdown",
   "metadata": {},
   "source": [
    "\n",
    "### Understanding Bull and Bear Markets\n",
    "\n",
    "Bull Market: Stock prices are rising (a market in which share prices are rising, **encouraging buying**)\n",
    "\n",
    "Bear Market: Stock prices are falling (a market in which prices are falling, **encouraging selling**"
   ]
  },
  {
   "cell_type": "markdown",
   "metadata": {},
   "source": [
    "### A Short History of Investing\n",
    "[S&P/TSX Composite Index](https://ca.spindices.com/indices/equity/sp-tsx-composite-index)\n",
    "* A Short History of Investing: The history of stock exchanges can be traced to 12th century France, when the first brokers are believed to have developed, trading in debt and government securities.\n",
    "* First stock exchange in the USA was founded in **1790** in Philadelphia\n",
    "* Two years later, **New York Stock Exchange** was founded.\n",
    "* **Toronto Stock Exchange** was founded in 1861\n",
    "* The **Crash of 1929** and the Great Depression (**Causes:** Stocks were overpriced, fraud and illegal activities, margin buying, and federal reserve policy)\n",
    "* Crash of **1929** and the Great Depression (**Causes:** Stocks were overpriced, fraud and illegal activities, margin buying and federal reserve policy)\n",
    "* Crash of **1987** (one-day panic in 1987) but no economic collapse followed\n",
    "* The 'technology bubble' in the nineties;\n",
    "* The 'bear market' of the new millenium in 2002\n",
    "* The financial crisis of 2008 - Bank failure in USA (fall of Lehman Brothers)\n",
    "\n",
    "#### Stock investment is a risky market\n",
    "* In 1931, US stock market lost about 43% of its value.\n",
    "* In 1933, stock market gained 54%\n",
    "* In 2008, while US stock market lost about 21%, Canadian market lost about 33%\n",
    "* TSX/S&P posted 34.35% rate of return in 2009 and 17.25% in 2011\n",
    "* Early 2012, TSX/S&P showed positive (+11.80%) rate of return\n",
    "* In 2014, TSX/S&P is showing positive (+8.53%) rate of return\n",
    "* IN 2019, [TSX/S&P is showing positive 20.08% YTD rate of return](http://ca.spindices.com/indices/equity/sp-tsx-composite-index)"
   ]
  },
  {
   "cell_type": "markdown",
   "metadata": {},
   "source": [
    "### Real Assets vs. Financial Assets\n",
    "Real Assets | Financial Assets\n",
    "--- | ---\n",
    "Have productive capacity | Claims on real assets\n",
    "   | Do not contribute directly to productive capacity\n",
    "**Examples:** Land, buildings, machines, intellectual property | **Examples:** Stocks, bonds, derivative securities (Options and Futures), etc.\n",
    "\n",
    "* maximum holding time of money market securities in Canada is 365 days vs. 270 days in the US\n",
    "\n",
    "#### Financial Assets (Claims on Real Assets)\n",
    "* **Fixed-Income Securities:** Promises a fixed stream of income or a stream of income determined by a specified formula; debt\n",
    "* **Equity:** Represents ownership share in a corporation; Common Stock\n",
    "* **Derivatives:** Provide payoffs that are determined by the prices of other assets\n",
    "\n",
    "#### Other types of Investments\n",
    "* Investment in currency\n",
    "* Commodity futures\n",
    "    * Corporations invest in commodity futures to hedge the risk"
   ]
  },
  {
   "cell_type": "markdown",
   "metadata": {},
   "source": [
    "### Financial Markets and the Economy\n",
    "#### Roles of Financial Assets and Financial Markets\n",
    "* **Information Role:** For example, stock prices reflect investors' collective assessment/judgement of firm's current performance and future prospectus.\n",
    "* **Consumption Timing:** For example, in the high earnings period, people build assets and save for the future.\n",
    "* **Allocation of Risk** (the degree of risk the household is willing to take with its investment portfolio)\n",
    "* **Separation of Ownership and Management** (agency problems)\n",
    "\n",
    "#### Mechanisms to mitigate Agency Problems:\n",
    "* Tie managers' income to the success of the firm\n",
    "    * consider CSR as part of manager's performance and how CSR affects the performance of the firm\n",
    "* Monitoring from the board of directors\n",
    "* Monitoring by large incestors and security analysts\n",
    "* Takeover threat\n",
    "\n",
    "#### Corporate Governance and Corporate Ethics\n",
    "* Accounting Scandals\n",
    "    * Enron Nortel Networks, Parmalat\n",
    "* Auditors: Watchdogs\n",
    "* Analyst Scandals\n",
    "    * Arthur Andersen: Earned more money consulting for Enron thank by auditing it; therefore he was overly lenient (permissive, merciful) in his auditing work.\n",
    "* Sarbanes-Oxley Act\n",
    "    * Tighten the rules of corporate governance"
   ]
  },
  {
   "cell_type": "markdown",
   "metadata": {},
   "source": [
    "### The Investment Process\n",
    "\n",
    "**Portfolio:** Collection of investment assets\n",
    "\n",
    "**Security Analysis:** Valuation of financial assets\n",
    "\n",
    "**Asset allocation:** Choice among broad asset classes (e.g. Stock, bonds, cash, other); **risk/return trade-off:** Stocks, bonds, cash, other\n",
    "\n",
    "**Security selection:** Choice of securities _within_ each asset class (e.g. which stocks/bonds in portfolio)\n",
    "\n",
    "**\"Top-down\" approach:** Asset allocation followed by security analysis\n",
    "\n",
    "**\"Bottom-up\" approach:** Investment based on solely on the price-attractiveness\n",
    "\n",
    "**Two types of portfolio management:** Active vs. Passive Management "
   ]
  },
  {
   "cell_type": "markdown",
   "metadata": {},
   "source": [
    "### Markets Are Competitive\n",
    "> There is **no-free lunch** since this proposition has several implications. Let's examine two:\n",
    "\n",
    "**Risk-Return Tradeoff**\n",
    "* Higher-risk assets are priced to offer higher expected returns than lower-risk assets\n",
    "* Risk and expected return are **positively correlated**\n",
    "* **Diversification reduces risk but does not eliminate it**\n",
    "\n",
    "**Efficient Markets:** In efficient markets, prices quickly adjust to all relevant information. There should be **neither underpriced** nor **overpriced securities**\n",
    "* **Passive Management**\n",
    "    * Holding a highly diversified portfolio\n",
    "    * No attempt to find undervalued securities\n",
    "    * No attempt to time the market\n",
    "* **Active Management**\n",
    "    * Finding mispriced securities\n",
    "    * Timing the market"
   ]
  },
  {
   "cell_type": "markdown",
   "metadata": {},
   "source": [
    "### The Players\n",
    "#### Three major players in the financial markets\n",
    "\n",
    "1. **Firms:** Net borrowers (firms raise capital to pay for investments in plant and equipment)\n",
    "2. **Households:** Net savers (Typically net suppliers of capital as savers and purchase the securities issued by the firm.)\n",
    "3. **Governments:** Can be both borrowers and savers\n",
    "\n",
    "* **Financial Intermediaries:** Pool and invest funds to help many small investors and lend money to many borrowers to diversify investment portfolio which is not possible for individual investors\n",
    "    * Investment Companies\n",
    "    * Banks\n",
    "    * Insurance Companies\n",
    "    * Credit Unions\n",
    "\n",
    "#### Universal Bank Activities\n",
    "\n",
    "Investment Banking | Commercial Banking\n",
    "--- | ---\n",
    "Underwrite new securities issues | Take deposits and make loans\n",
    "Sell newly issued securities to public in the **primary market** |   \n",
    "\n",
    "**Venture Capital and Private Equity**\n",
    "* Invest in start-up companies\n",
    "* Take active role in the management of a start-up firm\n",
    "* Wealthy individuals (angel investors) also supply capital to start-up firms\n",
    "* These private investment firms are knows as _private equity investment_. These firms do not trade on public stock exchanges such as TSX, NYSE, etc."
   ]
  },
  {
   "cell_type": "markdown",
   "metadata": {},
   "source": [
    "### Financial Crisis of 2008\n",
    "\n",
    "#### Antecedents of the Crisis:\n",
    "* \"The Great Moderation\"\n",
    "* Historic boom in housing market"
   ]
  },
  {
   "cell_type": "markdown",
   "metadata": {},
   "source": [
    "**\"The Great Moderation\"**\n",
    "\n",
    "![p1.png](https://github.com/mandarinJelly/finnotes/blob/master/common/Graphs/Chapter%201/p1.png?raw=true)"
   ]
  },
  {
   "cell_type": "markdown",
   "metadata": {},
   "source": [
    "**Historic Boom in U.S. Housing Market**\n",
    "\n",
    "![p2.png](https://github.com/mandarinJelly/finnotes/blob/master/common/Graphs/Chapter%201/p2.png?raw=true)"
   ]
  },
  {
   "cell_type": "markdown",
   "metadata": {},
   "source": [
    "#### Changes in Housing Finance\n",
    "Old Way | New Way\n",
    "--- | ---\n",
    "**Local thrift institution** made mortgage loans to homeowners | **Securitization:** Fannie Mae (Federal National Mortgage Association) and Freddie Mac (Federal Home Loan Mortgage Association) bought mortgage loans and bundled them into large pools\n",
    "**Thrift possessed(carefully possessed)** a portfolio of long-term mortgage loans | **Mortgage-backed securities** are tradable claims against the underlying mortgage pool\n",
    "**Thrift's main liability:** Deposits |  \n",
    "**\"Originate to hold\"** | **\"Originate to distribute\"**\n",
    "\n",
    "**Securitization:** Receiving mortgage security through mortgage registration on property\n",
    "\n",
    "**Inclusion of nonconforming \"subprime\" loans:\"** Securitization of high-risk loans\n",
    "\n",
    "**Low/No documentation loans:** Changes to no-documentation (liar loans) to documentation loans\n",
    "\n",
    "**Rising loan-to-value ratio:** Example, ratio of loan amount to mortgage no more than 80%\n",
    "\n",
    "**Adjustable-Rate Mortgages:** Offering low initial rates (teaser) and reset to current market rates"
   ]
  },
  {
   "cell_type": "markdown",
   "metadata": {},
   "source": [
    "### Mortgage Derivatives\n",
    "\n",
    "#### Collateralized Debt Obligations (CDOs)\n",
    "* Mortgage pool divided into ***tranches*** (slices) to concentrate default risk:\n",
    "    * **Seior tranches:** AAA rated company (high quality) loans with low default risk\n",
    "    * **Junior tranches:** Low quality loans (CCC rated companies)\n",
    "    \n",
    "    (Ratings significantly underestimated risk)\n",
    "    * default probabilities were misestimated\n",
    "    * **Geographic diversification** did not reduce risk sufficiently\n",
    "    * Agency problems with ratings agencies\n",
    "\n",
    "#### Credit Default Swap (CDS)\n",
    "* Investors bought sub-prime loans and CDSs\n",
    "* Some big swap issuers **did not have enough capital to back their CDSs**\n",
    "* This lack of capital resulted in the failure of follateralized debt obligations (CDO) insurance"
   ]
  },
  {
   "cell_type": "markdown",
   "metadata": {},
   "source": [
    "### Rise of Systemic Risk\n",
    "\n",
    "**Systemic Risk:**\n",
    "* One default triggers further defaults\n",
    "* Waves of selling - downward spiral as asset prices drop\n",
    "* Potential contagion (the spreading of a harmful idea)\n",
    "\n",
    "**Banks mismatch maturity/liquidity of their assets and liabilities:**\n",
    "* Liabilities were short and liquid\n",
    "* Assets were long and illiquid\n",
    "* Constant need to refinance\n",
    "#### Banks: Highly leveraged - no margin of safety\n",
    " - mainly defining US banks\n",
    "\n",
    "* Investors rely heavily on credit enhancement through structure products\n",
    "* Credit Default Swap (CDS) traded mostly over-the-counter\n",
    "    * No posted margin requirements\n",
    "    * Little transparency (illiquidity)\n",
    "* Opaque (no transparency, illiquidity) linkages between instruments and institutions\n",
    "\n",
    "### 2008 Financial Crisis: When the Shoe Drops\n",
    "\n",
    "**2004:** Interest rates began rising\n",
    "\n",
    "**2006:** Home prices peaked\n",
    "\n",
    "**2007:** Housing defaults and losses on mortgage-backed securities surged\n",
    "\n",
    "**2008:** Troubled firms include Bear Stearns, Fannie Mae, Freddie Mac, Merril Lynch, Lehman Brothers, and AIG (American International Group)\n",
    "\n",
    "    * Money market breaks down\n",
    "    * Credit market freeze up \n",
    "    * Federal bailout to stabilize financial system"
   ]
  },
  {
   "cell_type": "markdown",
   "metadata": {},
   "source": [
    "### The Dodd-Frank Reform Act\n",
    "\n",
    "* In 2010, there were many calls for reform of Wall Street and consumer protection act\n",
    "* Mechanisms to mitigate systemic risk\n",
    "    * Stricter rules for bank capital, liquidity, and risk management practices\n",
    "    * Increased transparency (liquidity) especially in derivatives markets\n",
    "    * Office of Credit Ratings within the Securities and Exchange Commission (SEC) to oversee the credit rating agencies"
   ]
  },
  {
   "cell_type": "markdown",
   "metadata": {},
   "source": [
    "### The Canadian Experience of the Financial Crisis\n",
    "\n",
    "* Less severe in Canada due to:\n",
    "    * The characteristics of the banking industry:\n",
    "    \n",
    "    \"universal\" banks benefit from the stable funding provided by bank deposits\n",
    "    \n",
    "    * Conservative mortgage lending practices:\n",
    "    \n",
    "    limited subprime mortgage lending\n",
    "    \n",
    "    mandatory default insurance for mortgagees with less than 20% equity\n",
    "    \n",
    "        - mandatory default insurance (explore which terms does GoC insures a mortgage)"
   ]
  }
 ],
 "metadata": {
  "kernelspec": {
   "display_name": "Python 3",
   "language": "python",
   "name": "python3"
  },
  "language_info": {
   "codemirror_mode": {
    "name": "ipython",
    "version": 3
   },
   "file_extension": ".py",
   "mimetype": "text/x-python",
   "name": "python",
   "nbconvert_exporter": "python",
   "pygments_lexer": "ipython3",
   "version": "3.7.6"
  }
 },
 "nbformat": 4,
 "nbformat_minor": 4
}
