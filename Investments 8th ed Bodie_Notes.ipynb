{
 "cells": [
  {
   "cell_type": "markdown",
   "metadata": {},
   "source": [
    "# Chapter 1: The Investment Environment\n",
    "\n",
    "**Investment** - cirrent commitment of money or other resources in the expectation of reaping future benefits.\n",
    "\n",
    "Material Wealth of Society = | $f(land, buildings, machines, knowledge)$\n",
    "--- | --- \n",
    "productive capacity of economy | _Real Assets (RA):_ means of production capacity\n",
    "\n",
    "_financial assets (FA):_ means by which individuals in well-developed economies hold their claims on real assets\n",
    "* one's asset is another's liability thus net material wealth is real assets.\n",
    "\n",
    "Real Assets | Financial Assets\n",
    "--- | ---\n",
    "Generate net income for economy | Allocation of income of wealth among investors\n",
    "\n",
    "##### Financial Assets\n",
    "* Fixed Income (debt securities)\n",
    "    * money market\n",
    "    * capital market\n",
    "* Equity (ownership)\n",
    "* Derivatives (risk management/portfolio insurance)\n",
    "\n",
    "#### Financial Markets and the Economy\n",
    "the idea of financial markets is to allocate resources to more effective use. Most often, analysis of specific securities are made at $t_0$; that is, the attractiveness of a security is based on information used and forecasted at a specific period.\n",
    "\n",
    ">\"Democracy is the worst form of government, except for all those others that that have been tried\" - Winston Churchill, _November 11, 1947_\n",
    "\n",
    "**Informational Role:** Theoretically, stock prices reflect investors' collective assessment of a firm's current performance and future prospects.\n",
    "\n",
    "**Consumption Timing:** When disposable incoe is higher than an individual's propensity to spend, invest in FAs in anticipation of bullish periods & sell in anticipation of bearish periods.\n",
    "\n",
    "**Risk Allocation:** "
   ]
  },
  {
   "cell_type": "code",
   "execution_count": null,
   "metadata": {},
   "outputs": [],
   "source": []
  }
 ],
 "metadata": {
  "kernelspec": {
   "display_name": "Python 3",
   "language": "python",
   "name": "python3"
  },
  "language_info": {
   "codemirror_mode": {
    "name": "ipython",
    "version": 3
   },
   "file_extension": ".py",
   "mimetype": "text/x-python",
   "name": "python",
   "nbconvert_exporter": "python",
   "pygments_lexer": "ipython3",
   "version": "3.7.6"
  }
 },
 "nbformat": 4,
 "nbformat_minor": 4
}
