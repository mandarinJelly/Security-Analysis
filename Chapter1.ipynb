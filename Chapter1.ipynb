{
 "cells": [
  {
   "cell_type": "markdown",
   "metadata": {},
   "source": [
    "# Chapter 1: The Investment Environment\n",
    "\n",
    "Financial System: allows the exchange of funds between lenders, investors, and borrowers\n",
    "\n",
    "Real Economy: All **real** or non-financial elements of an economy. For example, an economy with no financial elements. All goods and services are purely represented in real terms."
   ]
  },
  {
   "cell_type": "markdown",
   "metadata": {},
   "source": [
    "\n",
    "## Understanding Bull and Bear Markets\n",
    "\n",
    "Bull Market: Stock prices are rising (a market in which share prices are rising, **encouraging buying**)\n",
    "\n",
    "Bear Market: Stock prices are falling (a market in which prices are falling, **encouraging selling**"
   ]
  },
  {
   "cell_type": "markdown",
   "metadata": {},
   "source": [
    "### A Short History of Investing\n",
    "[S&P/TSX Composite Index](https://ca.spindices.com/indices/equity/sp-tsx-composite-index)\n",
    "* A Short History of Investing: The history of stock exchanges can be traced to 12th century France, when the first brokers are believed to have developed, trading in debt and government securities.\n",
    "* First stock exchange in the USA was founded in **1790** in Philadelphia\n",
    "* Two years later, **New York Stock Exchange** was founded.\n",
    "* **Toronto Stock Exchange** was founded in 1861\n",
    "* The **Crash of 1929** and the Great Depression (**Causes:** Stocks were overpriced, fraud and illegal activities, margin buying, and federal reserve policy)\n",
    "* Crash of **1929** and the Great De"
   ]
  },
  {
   "cell_type": "code",
   "execution_count": null,
   "metadata": {},
   "outputs": [],
   "source": [
    "     "
   ]
  }
 ],
 "metadata": {
  "kernelspec": {
   "display_name": "Python 3",
   "language": "python",
   "name": "python3"
  },
  "language_info": {
   "codemirror_mode": {
    "name": "ipython",
    "version": 3
   },
   "file_extension": ".py",
   "mimetype": "text/x-python",
   "name": "python",
   "nbconvert_exporter": "python",
   "pygments_lexer": "ipython3",
   "version": "3.7.6"
  }
 },
 "nbformat": 4,
 "nbformat_minor": 4
}
