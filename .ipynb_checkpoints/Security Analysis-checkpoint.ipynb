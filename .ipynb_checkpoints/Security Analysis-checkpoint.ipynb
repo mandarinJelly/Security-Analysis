{
 "cells": [
  {
   "cell_type": "markdown",
   "metadata": {},
   "source": [
    "# Chapter 1: The Investment Environment\n",
    "\n",
    "Financial System: allows the exchange of funds between lenders, investors, and borrowers\n",
    "\n",
    "Real Economy: All **real** or non-financial elements of an economy. For example, an economy with no financial elements. All goods and services are purely represented in real terms."
   ]
  },
  {
   "cell_type": "markdown",
   "metadata": {},
   "source": [
    "\n",
    "## Understanding Bull and Bear Markets\n",
    "\n",
    "Bull Market: Stock prices are rising (a market in which share prices are rising, **encouraging buying**)\n",
    "\n",
    "Bear Market: Stock prices are falling (a market in which prices are falling, **encouraging selling**"
   ]
  },
  {
   "cell_type": "markdown",
   "metadata": {},
   "source": [
    "### A Short History of Investing\n",
    "[S&P/TSX Composite Index](https://ca.spindices.com/indices/equity/sp-tsx-composite-index)\n",
    "* A Short History of Investing: The history of stock exchanges can be traced to 12th century France, when the first brokers are believed to have developed, trading in debt and government securities.\n",
    "* First stock exchange in the USA was founded in **1790** in Philadelphia\n",
    "* Two years later, **New York Stock Exchange** was founded.\n",
    "* **Toronto Stock Exchange** was founded in 1861\n",
    "* The **Crash of 1929** and the Great Depression (**Causes:** Stocks were overpriced, fraud and illegal activities, margin buying, and federal reserve policy)\n",
    "* Crash of **1929** and the Great Depression (**Causes:** Stocks were overpriced, fraud and illegal activities, margin buying and federal reserve policy)\n",
    "* Crash of **1987** (one-day panic in 1987) but no economic collapse followed\n",
    "* The 'technology bubble' in the nineties;\n",
    "* The 'bear market' of the new millenium in 2002\n",
    "* The financial crisis of 2008 - Bank failure in USA (fall of Lehman Brothers)\n",
    "\n",
    "#### Stock investment is a risky market\n",
    "* In 1931, US stock market lost about 43% of its value.\n",
    "* In 1933, stock market gained 54%\n",
    "* In 2008, while US stock market lost about 21%, Canadian market lost about 33%\n",
    "* TSX/S&P posted 34.35% rate of return in 2009 and 17.25% in 2011\n",
    "* Early 2012, TSX/S&P showed positive (+11.80%) rate of return\n",
    "* In 2014, TSX/S&P is showing positive (+8.53%) rate of return\n",
    "* IN 2019, [TSX/S&P is showing positive 20.08% YTD rate of return](http://ca.spindices.com/indices/equity/sp-tsx-composite-index)"
   ]
  },
  {
   "cell_type": "markdown",
   "metadata": {},
   "source": [
    "### Real Assets vs. Financial Assets\n",
    "Real Assets | Financial Assets\n",
    "--- | ---\n",
    "Have productive capacity | Claims on real assets\n",
    "   | Do not contribute directly to productive capacity\n",
    "**Examples:** Land, buildings, machines, intellectual property | **Examples:** Stocks, bonds, derivative securities (Options and Futures), etc.\n",
    "\n",
    "#### Financial Assets (Claims on Real Assets)\n",
    "* **Fixed-Income Securities:** Promises a fixed stream of income or a stream of income determined by a specified formula; debt\n",
    "* **Equity:** Represents ownership share in a corporation; COmmon Stock\n",
    "* **Derivatives:** Provide payoffs that are determined by the prices of other assets\n",
    "\n",
    "#### Other types of Investments\n",
    "* Investment in currency\n",
    "* Commodity futures\n",
    "    * Corporations invest in commodity futures to hedge the risk"
   ]
  },
  {
   "cell_type": "markdown",
   "metadata": {},
   "source": [
    "### Financial Markets and the Economy\n",
    "#### Roles of Financial Assets and Financial Markets\n",
    "* **Information Role:** For example, stock prices reflect investors' collective assessment/judgement of firm's current performance and future prospectus.\n",
    "* **Consumption Timing:** For example, in the high earnings period, people build assets and save for the future.\n",
    "* **Allocation of Risk** (the degree of risk the household is willing to take with its investment portfolio)\n",
    "* **Separation of Ownership and Management** (agency problems)\n",
    "\n",
    "#### Mechanisms to mitigate Agency Problems:\n",
    "* Tie managers' income to the success of the firm\n",
    "* Monitoring from the board of directors\n",
    "* Monitoring by large incestors and security analysts\n",
    "* Takeover threat"
   ]
  },
  {
   "cell_type": "code",
   "execution_count": null,
   "metadata": {},
   "outputs": [],
   "source": []
  }
 ],
 "metadata": {
  "kernelspec": {
   "display_name": "Python 3",
   "language": "python",
   "name": "python3"
  },
  "language_info": {
   "codemirror_mode": {
    "name": "ipython",
    "version": 3
   },
   "file_extension": ".py",
   "mimetype": "text/x-python",
   "name": "python",
   "nbconvert_exporter": "python",
   "pygments_lexer": "ipython3",
   "version": "3.7.6"
  }
 },
 "nbformat": 4,
 "nbformat_minor": 4
}
